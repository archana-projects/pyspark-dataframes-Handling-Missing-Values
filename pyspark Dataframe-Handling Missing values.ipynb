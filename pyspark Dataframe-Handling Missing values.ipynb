{
 "cells": [
  {
   "cell_type": "markdown",
   "id": "82f51270-6250-450d-94f9-2975ab293ce5",
   "metadata": {},
   "source": [
    "### Pyspark Handling Missing Values\n",
    "- Dropping Columns\n",
    "- Dropping Rows\n",
    "- Various Parameter In Dropping functionalities\n",
    "- Handling Missing values by Mean, MEdian And Mode"
   ]
  },
  {
   "cell_type": "code",
   "execution_count": 2,
   "id": "13d5cbdc-79d3-4afc-9352-0ec2a845ff1e",
   "metadata": {},
   "outputs": [],
   "source": [
    "from pyspark.sql import SparkSession\n",
    "spark=SparkSession.builder.appName('Practise').getOrCreate()"
   ]
  },
  {
   "cell_type": "code",
   "execution_count": 6,
   "id": "b0642937-5610-4fe3-81fd-c6f478adeab0",
   "metadata": {},
   "outputs": [],
   "source": [
    "df_pyspark=spark.read.csv(r\"E:\\NIT Python (ALL Task)\\PYSPARK & DATABRICKS\\sample2.csv\",header=True,inferSchema=True)"
   ]
  },
  {
   "cell_type": "code",
   "execution_count": 8,
   "id": "58ce3182-1be9-447f-a8bb-9a245041593b",
   "metadata": {},
   "outputs": [
    {
     "name": "stdout",
     "output_type": "stream",
     "text": [
      "root\n",
      " |-- Name: string (nullable = true)\n",
      " |-- age: integer (nullable = true)\n",
      " |-- Experience: integer (nullable = true)\n",
      " |-- Salary: integer (nullable = true)\n",
      "\n"
     ]
    }
   ],
   "source": [
    "df_pyspark.printSchema()"
   ]
  },
  {
   "cell_type": "code",
   "execution_count": 10,
   "id": "a52b4298-a316-42b2-9732-7f80414af47f",
   "metadata": {},
   "outputs": [
    {
     "name": "stdout",
     "output_type": "stream",
     "text": [
      "+--------+----+----------+------+\n",
      "|    Name| age|Experience|Salary|\n",
      "+--------+----+----------+------+\n",
      "|    jack|  31|        10| 30000|\n",
      "|    alex|  30|         8| 25000|\n",
      "|caroline|  29|         4| 20000|\n",
      "|    paul|  24|         3| 20000|\n",
      "|  sandra|  21|         1| 15000|\n",
      "|casandra|  23|         2| 18000|\n",
      "|     dan|NULL|      NULL| 40000|\n",
      "|    NULL|  34|        10| 38000|\n",
      "|    NULL|  36|      NULL|  NULL|\n",
      "+--------+----+----------+------+\n",
      "\n"
     ]
    }
   ],
   "source": [
    "df_pyspark.show()"
   ]
  },
  {
   "cell_type": "code",
   "execution_count": 12,
   "id": "3f19a7f0-c2c7-49d2-a34d-76b8d3de32ae",
   "metadata": {},
   "outputs": [
    {
     "name": "stdout",
     "output_type": "stream",
     "text": [
      "+----+----------+------+\n",
      "| age|Experience|Salary|\n",
      "+----+----------+------+\n",
      "|  31|        10| 30000|\n",
      "|  30|         8| 25000|\n",
      "|  29|         4| 20000|\n",
      "|  24|         3| 20000|\n",
      "|  21|         1| 15000|\n",
      "|  23|         2| 18000|\n",
      "|NULL|      NULL| 40000|\n",
      "|  34|        10| 38000|\n",
      "|  36|      NULL|  NULL|\n",
      "+----+----------+------+\n",
      "\n"
     ]
    }
   ],
   "source": [
    "##drop the columns\n",
    "df_pyspark.drop('Name').show()"
   ]
  },
  {
   "cell_type": "code",
   "execution_count": 14,
   "id": "d0ca8255-5c0a-443e-b5fe-855c2535d6de",
   "metadata": {},
   "outputs": [
    {
     "name": "stdout",
     "output_type": "stream",
     "text": [
      "+--------+----+----------+------+\n",
      "|    Name| age|Experience|Salary|\n",
      "+--------+----+----------+------+\n",
      "|    jack|  31|        10| 30000|\n",
      "|    alex|  30|         8| 25000|\n",
      "|caroline|  29|         4| 20000|\n",
      "|    paul|  24|         3| 20000|\n",
      "|  sandra|  21|         1| 15000|\n",
      "|casandra|  23|         2| 18000|\n",
      "|     dan|NULL|      NULL| 40000|\n",
      "|    NULL|  34|        10| 38000|\n",
      "|    NULL|  36|      NULL|  NULL|\n",
      "+--------+----+----------+------+\n",
      "\n"
     ]
    }
   ],
   "source": [
    "df_pyspark.show()"
   ]
  },
  {
   "cell_type": "code",
   "execution_count": 16,
   "id": "59f6170f-85ef-4e18-b190-9fb894279234",
   "metadata": {},
   "outputs": [
    {
     "name": "stdout",
     "output_type": "stream",
     "text": [
      "+--------+---+----------+------+\n",
      "|    Name|age|Experience|Salary|\n",
      "+--------+---+----------+------+\n",
      "|    jack| 31|        10| 30000|\n",
      "|    alex| 30|         8| 25000|\n",
      "|caroline| 29|         4| 20000|\n",
      "|    paul| 24|         3| 20000|\n",
      "|  sandra| 21|         1| 15000|\n",
      "|casandra| 23|         2| 18000|\n",
      "+--------+---+----------+------+\n",
      "\n"
     ]
    }
   ],
   "source": [
    "df_pyspark.na.drop().show()"
   ]
  },
  {
   "cell_type": "code",
   "execution_count": 18,
   "id": "6c943b83-b167-4a4c-b442-3aa169b55cfd",
   "metadata": {},
   "outputs": [
    {
     "name": "stdout",
     "output_type": "stream",
     "text": [
      "+--------+---+----------+------+\n",
      "|    Name|age|Experience|Salary|\n",
      "+--------+---+----------+------+\n",
      "|    jack| 31|        10| 30000|\n",
      "|    alex| 30|         8| 25000|\n",
      "|caroline| 29|         4| 20000|\n",
      "|    paul| 24|         3| 20000|\n",
      "|  sandra| 21|         1| 15000|\n",
      "|casandra| 23|         2| 18000|\n",
      "+--------+---+----------+------+\n",
      "\n"
     ]
    }
   ],
   "source": [
    "### any==how\n",
    "df_pyspark.na.drop(how=\"any\").show()"
   ]
  },
  {
   "cell_type": "code",
   "execution_count": 20,
   "id": "6486bffe-7c45-495d-a65b-5bc05a4f6ebf",
   "metadata": {},
   "outputs": [
    {
     "name": "stdout",
     "output_type": "stream",
     "text": [
      "+--------+---+----------+------+\n",
      "|    Name|age|Experience|Salary|\n",
      "+--------+---+----------+------+\n",
      "|    jack| 31|        10| 30000|\n",
      "|    alex| 30|         8| 25000|\n",
      "|caroline| 29|         4| 20000|\n",
      "|    paul| 24|         3| 20000|\n",
      "|  sandra| 21|         1| 15000|\n",
      "|casandra| 23|         2| 18000|\n",
      "|    NULL| 34|        10| 38000|\n",
      "+--------+---+----------+------+\n",
      "\n"
     ]
    }
   ],
   "source": [
    "##threshold\n",
    "df_pyspark.na.drop(how=\"any\",thresh=3).show()"
   ]
  },
  {
   "cell_type": "code",
   "execution_count": 22,
   "id": "39e99a96-32d9-4c5e-a1dc-6e8b792fe815",
   "metadata": {},
   "outputs": [
    {
     "name": "stdout",
     "output_type": "stream",
     "text": [
      "+--------+---+----------+------+\n",
      "|    Name|age|Experience|Salary|\n",
      "+--------+---+----------+------+\n",
      "|    jack| 31|        10| 30000|\n",
      "|    alex| 30|         8| 25000|\n",
      "|caroline| 29|         4| 20000|\n",
      "|    paul| 24|         3| 20000|\n",
      "|  sandra| 21|         1| 15000|\n",
      "|casandra| 23|         2| 18000|\n",
      "|    NULL| 34|        10| 38000|\n",
      "|    NULL| 36|      NULL|  NULL|\n",
      "+--------+---+----------+------+\n",
      "\n"
     ]
    }
   ],
   "source": [
    "##Subset\n",
    "df_pyspark.na.drop(how=\"any\",subset=['Age']).show()"
   ]
  },
  {
   "cell_type": "code",
   "execution_count": 24,
   "id": "8f599599-0608-40f6-91c6-136d6787acd4",
   "metadata": {},
   "outputs": [
    {
     "name": "stdout",
     "output_type": "stream",
     "text": [
      "+--------+----+----------+------+\n",
      "|    Name| age|Experience|Salary|\n",
      "+--------+----+----------+------+\n",
      "|    jack|  31|        10| 30000|\n",
      "|    alex|  30|         8| 25000|\n",
      "|caroline|  29|         4| 20000|\n",
      "|    paul|  24|         3| 20000|\n",
      "|  sandra|  21|         1| 15000|\n",
      "|casandra|  23|         2| 18000|\n",
      "|     dan|NULL|      NULL| 40000|\n",
      "|    NULL|  34|        10| 38000|\n",
      "|    NULL|  36|      NULL|  NULL|\n",
      "+--------+----+----------+------+\n",
      "\n"
     ]
    }
   ],
   "source": [
    "### Filling the Missing Value\n",
    "df_pyspark.na.fill('Missing Values',['Experience','age']).show()"
   ]
  },
  {
   "cell_type": "code",
   "execution_count": 26,
   "id": "aa5171cc-aee2-4d50-8452-8acb8094d496",
   "metadata": {},
   "outputs": [
    {
     "name": "stdout",
     "output_type": "stream",
     "text": [
      "+--------+----+----------+------+\n",
      "|    Name| age|Experience|Salary|\n",
      "+--------+----+----------+------+\n",
      "|    jack|  31|        10| 30000|\n",
      "|    alex|  30|         8| 25000|\n",
      "|caroline|  29|         4| 20000|\n",
      "|    paul|  24|         3| 20000|\n",
      "|  sandra|  21|         1| 15000|\n",
      "|casandra|  23|         2| 18000|\n",
      "|     dan|NULL|      NULL| 40000|\n",
      "|    NULL|  34|        10| 38000|\n",
      "|    NULL|  36|      NULL|  NULL|\n",
      "+--------+----+----------+------+\n",
      "\n"
     ]
    }
   ],
   "source": [
    "df_pyspark.show()"
   ]
  },
  {
   "cell_type": "code",
   "execution_count": 28,
   "id": "73fd2979-d47d-4133-9b8c-4e64857efdfb",
   "metadata": {},
   "outputs": [
    {
     "name": "stdout",
     "output_type": "stream",
     "text": [
      "root\n",
      " |-- Name: string (nullable = true)\n",
      " |-- age: integer (nullable = true)\n",
      " |-- Experience: integer (nullable = true)\n",
      " |-- Salary: integer (nullable = true)\n",
      "\n"
     ]
    }
   ],
   "source": [
    "df_pyspark.printSchema()"
   ]
  },
  {
   "cell_type": "code",
   "execution_count": 30,
   "id": "167c016b-3d99-4363-b2b4-2e185c5f2d5f",
   "metadata": {},
   "outputs": [],
   "source": [
    "from pyspark.ml.feature import Imputer\n",
    "\n",
    "imputer = Imputer(\n",
    "    inputCols=['age', 'Experience', 'Salary'], \n",
    "    outputCols=[\"{}_imputed\".format(c) for c in ['age', 'Experience', 'Salary']]\n",
    "    ).setStrategy(\"median\")"
   ]
  },
  {
   "cell_type": "code",
   "execution_count": 32,
   "id": "f3f2e636-4362-4762-9f1e-ee7d588ba947",
   "metadata": {},
   "outputs": [
    {
     "name": "stdout",
     "output_type": "stream",
     "text": [
      "+--------+----+----------+------+-----------+------------------+--------------+\n",
      "|    Name| age|Experience|Salary|age_imputed|Experience_imputed|Salary_imputed|\n",
      "+--------+----+----------+------+-----------+------------------+--------------+\n",
      "|    jack|  31|        10| 30000|         31|                10|         30000|\n",
      "|    alex|  30|         8| 25000|         30|                 8|         25000|\n",
      "|caroline|  29|         4| 20000|         29|                 4|         20000|\n",
      "|    paul|  24|         3| 20000|         24|                 3|         20000|\n",
      "|  sandra|  21|         1| 15000|         21|                 1|         15000|\n",
      "|casandra|  23|         2| 18000|         23|                 2|         18000|\n",
      "|     dan|NULL|      NULL| 40000|         29|                 4|         40000|\n",
      "|    NULL|  34|        10| 38000|         34|                10|         38000|\n",
      "|    NULL|  36|      NULL|  NULL|         36|                 4|         20000|\n",
      "+--------+----+----------+------+-----------+------------------+--------------+\n",
      "\n"
     ]
    }
   ],
   "source": [
    "# Add imputation cols to df\n",
    "imputer.fit(df_pyspark).transform(df_pyspark).show()"
   ]
  },
  {
   "cell_type": "code",
   "execution_count": null,
   "id": "ecd2f71f-f8d2-46ec-b0a1-1afab014025f",
   "metadata": {},
   "outputs": [],
   "source": []
  },
  {
   "cell_type": "code",
   "execution_count": null,
   "id": "2324d2b8-7c95-4670-8cb7-b23bab5af8e1",
   "metadata": {},
   "outputs": [],
   "source": []
  },
  {
   "cell_type": "code",
   "execution_count": null,
   "id": "2ce70595-e124-444e-b4d4-9439c6375931",
   "metadata": {},
   "outputs": [],
   "source": []
  }
 ],
 "metadata": {
  "kernelspec": {
   "display_name": "Python 3 (ipykernel)",
   "language": "python",
   "name": "python3"
  },
  "language_info": {
   "codemirror_mode": {
    "name": "ipython",
    "version": 3
   },
   "file_extension": ".py",
   "mimetype": "text/x-python",
   "name": "python",
   "nbconvert_exporter": "python",
   "pygments_lexer": "ipython3",
   "version": "3.12.4"
  }
 },
 "nbformat": 4,
 "nbformat_minor": 5
}
